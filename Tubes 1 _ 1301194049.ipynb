{
  "nbformat": 4,
  "nbformat_minor": 0,
  "metadata": {
    "colab": {
      "name": "Malin_1301194049.ipynb",
      "provenance": []
    },
    "kernelspec": {
      "name": "python3",
      "display_name": "Python 3"
    },
    "language_info": {
      "name": "python"
    }
  },
  "cells": [
    {
      "cell_type": "code",
      "metadata": {
        "id": "qJX0y3dT2brv"
      },
      "source": [
        "import pandas as pd\n",
        "import numpy as np\n",
        "import random\n",
        "import math\n",
        "from google.colab import drive\n",
        "from sklearn.preprocessing import MinMaxScaler\n",
        "import seaborn as sns\n",
        "import matplotlib.pyplot as plt\n",
        "from sklearn.cluster import KMeans\n",
        "from scipy.spatial.distance import cdist"
      ],
      "execution_count": null,
      "outputs": []
    },
    {
      "cell_type": "markdown",
      "metadata": {
        "id": "Y8vVktsNyLx4"
      },
      "source": [
        "# **EKSPLORASI** **DATA** **DAN PRE PROCESSING DATA**"
      ]
    },
    {
      "cell_type": "code",
      "metadata": {
        "colab": {
          "base_uri": "https://localhost:8080/",
          "height": 223
        },
        "id": "_3a135Ad3vlB",
        "outputId": "02d5a4c7-e5be-455e-a1e3-75fc7ac59dcf"
      },
      "source": [
        "# mengimport data\n",
        "drive.mount('/content/drive')\n",
        "data_train = pd.read_csv(\"/content/drive/MyDrive/TugasBesarMalin/kendaraan_train.csv\")\n",
        "data_train.head()"
      ],
      "execution_count": null,
      "outputs": [
        {
          "output_type": "stream",
          "name": "stdout",
          "text": [
            "Drive already mounted at /content/drive; to attempt to forcibly remount, call drive.mount(\"/content/drive\", force_remount=True).\n"
          ]
        },
        {
          "output_type": "execute_result",
          "data": {
            "text/html": [
              "<div>\n",
              "<style scoped>\n",
              "    .dataframe tbody tr th:only-of-type {\n",
              "        vertical-align: middle;\n",
              "    }\n",
              "\n",
              "    .dataframe tbody tr th {\n",
              "        vertical-align: top;\n",
              "    }\n",
              "\n",
              "    .dataframe thead th {\n",
              "        text-align: right;\n",
              "    }\n",
              "</style>\n",
              "<table border=\"1\" class=\"dataframe\">\n",
              "  <thead>\n",
              "    <tr style=\"text-align: right;\">\n",
              "      <th></th>\n",
              "      <th>id</th>\n",
              "      <th>Jenis_Kelamin</th>\n",
              "      <th>Umur</th>\n",
              "      <th>SIM</th>\n",
              "      <th>Kode_Daerah</th>\n",
              "      <th>Sudah_Asuransi</th>\n",
              "      <th>Umur_Kendaraan</th>\n",
              "      <th>Kendaraan_Rusak</th>\n",
              "      <th>Premi</th>\n",
              "      <th>Kanal_Penjualan</th>\n",
              "      <th>Lama_Berlangganan</th>\n",
              "      <th>Tertarik</th>\n",
              "    </tr>\n",
              "  </thead>\n",
              "  <tbody>\n",
              "    <tr>\n",
              "      <th>0</th>\n",
              "      <td>1</td>\n",
              "      <td>Wanita</td>\n",
              "      <td>30.0</td>\n",
              "      <td>1.0</td>\n",
              "      <td>33.0</td>\n",
              "      <td>1.0</td>\n",
              "      <td>&lt; 1 Tahun</td>\n",
              "      <td>Tidak</td>\n",
              "      <td>28029.0</td>\n",
              "      <td>152.0</td>\n",
              "      <td>97.0</td>\n",
              "      <td>0</td>\n",
              "    </tr>\n",
              "    <tr>\n",
              "      <th>1</th>\n",
              "      <td>2</td>\n",
              "      <td>Pria</td>\n",
              "      <td>48.0</td>\n",
              "      <td>1.0</td>\n",
              "      <td>39.0</td>\n",
              "      <td>0.0</td>\n",
              "      <td>&gt; 2 Tahun</td>\n",
              "      <td>Pernah</td>\n",
              "      <td>25800.0</td>\n",
              "      <td>29.0</td>\n",
              "      <td>158.0</td>\n",
              "      <td>0</td>\n",
              "    </tr>\n",
              "    <tr>\n",
              "      <th>2</th>\n",
              "      <td>3</td>\n",
              "      <td>NaN</td>\n",
              "      <td>21.0</td>\n",
              "      <td>1.0</td>\n",
              "      <td>46.0</td>\n",
              "      <td>1.0</td>\n",
              "      <td>&lt; 1 Tahun</td>\n",
              "      <td>Tidak</td>\n",
              "      <td>32733.0</td>\n",
              "      <td>160.0</td>\n",
              "      <td>119.0</td>\n",
              "      <td>0</td>\n",
              "    </tr>\n",
              "    <tr>\n",
              "      <th>3</th>\n",
              "      <td>4</td>\n",
              "      <td>Wanita</td>\n",
              "      <td>58.0</td>\n",
              "      <td>1.0</td>\n",
              "      <td>48.0</td>\n",
              "      <td>0.0</td>\n",
              "      <td>1-2 Tahun</td>\n",
              "      <td>Tidak</td>\n",
              "      <td>2630.0</td>\n",
              "      <td>124.0</td>\n",
              "      <td>63.0</td>\n",
              "      <td>0</td>\n",
              "    </tr>\n",
              "    <tr>\n",
              "      <th>4</th>\n",
              "      <td>5</td>\n",
              "      <td>Pria</td>\n",
              "      <td>50.0</td>\n",
              "      <td>1.0</td>\n",
              "      <td>35.0</td>\n",
              "      <td>0.0</td>\n",
              "      <td>&gt; 2 Tahun</td>\n",
              "      <td>NaN</td>\n",
              "      <td>34857.0</td>\n",
              "      <td>88.0</td>\n",
              "      <td>194.0</td>\n",
              "      <td>0</td>\n",
              "    </tr>\n",
              "  </tbody>\n",
              "</table>\n",
              "</div>"
            ],
            "text/plain": [
              "   id Jenis_Kelamin  Umur  ...  Kanal_Penjualan  Lama_Berlangganan  Tertarik\n",
              "0   1        Wanita  30.0  ...            152.0               97.0         0\n",
              "1   2          Pria  48.0  ...             29.0              158.0         0\n",
              "2   3           NaN  21.0  ...            160.0              119.0         0\n",
              "3   4        Wanita  58.0  ...            124.0               63.0         0\n",
              "4   5          Pria  50.0  ...             88.0              194.0         0\n",
              "\n",
              "[5 rows x 12 columns]"
            ]
          },
          "metadata": {},
          "execution_count": 384
        }
      ]
    },
    {
      "cell_type": "code",
      "metadata": {
        "colab": {
          "base_uri": "https://localhost:8080/",
          "height": 423
        },
        "id": "x1gOrJMd54UV",
        "outputId": "a0662e45-63fd-464f-d257-46a8d16a47ee"
      },
      "source": [
        "# mengubah tipe data string ke numeric\n",
        "\n",
        "data_train['Jenis_Kelamin'].replace('Wanita', 0, inplace=True)\n",
        "data_train['Jenis_Kelamin'].replace('Pria', 1, inplace=True)\n",
        "data_train['Umur_Kendaraan'].replace('< 1 Tahun', 0, inplace=True)\n",
        "data_train['Umur_Kendaraan'].replace('1-2 Tahun', 1, inplace=True)\n",
        "data_train['Umur_Kendaraan'].replace('> 2 Tahun', 2, inplace=True)\n",
        "data_train['Kendaraan_Rusak'].replace('Pernah', 1, inplace=True)\n",
        "data_train['Kendaraan_Rusak'].replace('Tidak', 0, inplace=True)\n",
        "data_train"
      ],
      "execution_count": null,
      "outputs": [
        {
          "output_type": "execute_result",
          "data": {
            "text/html": [
              "<div>\n",
              "<style scoped>\n",
              "    .dataframe tbody tr th:only-of-type {\n",
              "        vertical-align: middle;\n",
              "    }\n",
              "\n",
              "    .dataframe tbody tr th {\n",
              "        vertical-align: top;\n",
              "    }\n",
              "\n",
              "    .dataframe thead th {\n",
              "        text-align: right;\n",
              "    }\n",
              "</style>\n",
              "<table border=\"1\" class=\"dataframe\">\n",
              "  <thead>\n",
              "    <tr style=\"text-align: right;\">\n",
              "      <th></th>\n",
              "      <th>id</th>\n",
              "      <th>Jenis_Kelamin</th>\n",
              "      <th>Umur</th>\n",
              "      <th>SIM</th>\n",
              "      <th>Kode_Daerah</th>\n",
              "      <th>Sudah_Asuransi</th>\n",
              "      <th>Umur_Kendaraan</th>\n",
              "      <th>Kendaraan_Rusak</th>\n",
              "      <th>Premi</th>\n",
              "      <th>Kanal_Penjualan</th>\n",
              "      <th>Lama_Berlangganan</th>\n",
              "      <th>Tertarik</th>\n",
              "    </tr>\n",
              "  </thead>\n",
              "  <tbody>\n",
              "    <tr>\n",
              "      <th>0</th>\n",
              "      <td>1</td>\n",
              "      <td>0.0</td>\n",
              "      <td>30.0</td>\n",
              "      <td>1.0</td>\n",
              "      <td>33.0</td>\n",
              "      <td>1.0</td>\n",
              "      <td>0.0</td>\n",
              "      <td>0.0</td>\n",
              "      <td>28029.0</td>\n",
              "      <td>152.0</td>\n",
              "      <td>97.0</td>\n",
              "      <td>0</td>\n",
              "    </tr>\n",
              "    <tr>\n",
              "      <th>1</th>\n",
              "      <td>2</td>\n",
              "      <td>1.0</td>\n",
              "      <td>48.0</td>\n",
              "      <td>1.0</td>\n",
              "      <td>39.0</td>\n",
              "      <td>0.0</td>\n",
              "      <td>2.0</td>\n",
              "      <td>1.0</td>\n",
              "      <td>25800.0</td>\n",
              "      <td>29.0</td>\n",
              "      <td>158.0</td>\n",
              "      <td>0</td>\n",
              "    </tr>\n",
              "    <tr>\n",
              "      <th>2</th>\n",
              "      <td>3</td>\n",
              "      <td>NaN</td>\n",
              "      <td>21.0</td>\n",
              "      <td>1.0</td>\n",
              "      <td>46.0</td>\n",
              "      <td>1.0</td>\n",
              "      <td>0.0</td>\n",
              "      <td>0.0</td>\n",
              "      <td>32733.0</td>\n",
              "      <td>160.0</td>\n",
              "      <td>119.0</td>\n",
              "      <td>0</td>\n",
              "    </tr>\n",
              "    <tr>\n",
              "      <th>3</th>\n",
              "      <td>4</td>\n",
              "      <td>0.0</td>\n",
              "      <td>58.0</td>\n",
              "      <td>1.0</td>\n",
              "      <td>48.0</td>\n",
              "      <td>0.0</td>\n",
              "      <td>1.0</td>\n",
              "      <td>0.0</td>\n",
              "      <td>2630.0</td>\n",
              "      <td>124.0</td>\n",
              "      <td>63.0</td>\n",
              "      <td>0</td>\n",
              "    </tr>\n",
              "    <tr>\n",
              "      <th>4</th>\n",
              "      <td>5</td>\n",
              "      <td>1.0</td>\n",
              "      <td>50.0</td>\n",
              "      <td>1.0</td>\n",
              "      <td>35.0</td>\n",
              "      <td>0.0</td>\n",
              "      <td>2.0</td>\n",
              "      <td>NaN</td>\n",
              "      <td>34857.0</td>\n",
              "      <td>88.0</td>\n",
              "      <td>194.0</td>\n",
              "      <td>0</td>\n",
              "    </tr>\n",
              "    <tr>\n",
              "      <th>...</th>\n",
              "      <td>...</td>\n",
              "      <td>...</td>\n",
              "      <td>...</td>\n",
              "      <td>...</td>\n",
              "      <td>...</td>\n",
              "      <td>...</td>\n",
              "      <td>...</td>\n",
              "      <td>...</td>\n",
              "      <td>...</td>\n",
              "      <td>...</td>\n",
              "      <td>...</td>\n",
              "      <td>...</td>\n",
              "    </tr>\n",
              "    <tr>\n",
              "      <th>285826</th>\n",
              "      <td>285827</td>\n",
              "      <td>0.0</td>\n",
              "      <td>23.0</td>\n",
              "      <td>1.0</td>\n",
              "      <td>4.0</td>\n",
              "      <td>1.0</td>\n",
              "      <td>0.0</td>\n",
              "      <td>0.0</td>\n",
              "      <td>25988.0</td>\n",
              "      <td>152.0</td>\n",
              "      <td>217.0</td>\n",
              "      <td>0</td>\n",
              "    </tr>\n",
              "    <tr>\n",
              "      <th>285827</th>\n",
              "      <td>285828</td>\n",
              "      <td>0.0</td>\n",
              "      <td>21.0</td>\n",
              "      <td>1.0</td>\n",
              "      <td>46.0</td>\n",
              "      <td>1.0</td>\n",
              "      <td>0.0</td>\n",
              "      <td>0.0</td>\n",
              "      <td>44686.0</td>\n",
              "      <td>152.0</td>\n",
              "      <td>50.0</td>\n",
              "      <td>0</td>\n",
              "    </tr>\n",
              "    <tr>\n",
              "      <th>285828</th>\n",
              "      <td>285829</td>\n",
              "      <td>0.0</td>\n",
              "      <td>23.0</td>\n",
              "      <td>1.0</td>\n",
              "      <td>50.0</td>\n",
              "      <td>1.0</td>\n",
              "      <td>0.0</td>\n",
              "      <td>0.0</td>\n",
              "      <td>49751.0</td>\n",
              "      <td>152.0</td>\n",
              "      <td>226.0</td>\n",
              "      <td>0</td>\n",
              "    </tr>\n",
              "    <tr>\n",
              "      <th>285829</th>\n",
              "      <td>285830</td>\n",
              "      <td>1.0</td>\n",
              "      <td>68.0</td>\n",
              "      <td>1.0</td>\n",
              "      <td>7.0</td>\n",
              "      <td>1.0</td>\n",
              "      <td>1.0</td>\n",
              "      <td>0.0</td>\n",
              "      <td>30503.0</td>\n",
              "      <td>124.0</td>\n",
              "      <td>270.0</td>\n",
              "      <td>0</td>\n",
              "    </tr>\n",
              "    <tr>\n",
              "      <th>285830</th>\n",
              "      <td>285831</td>\n",
              "      <td>1.0</td>\n",
              "      <td>45.0</td>\n",
              "      <td>1.0</td>\n",
              "      <td>28.0</td>\n",
              "      <td>0.0</td>\n",
              "      <td>1.0</td>\n",
              "      <td>1.0</td>\n",
              "      <td>36480.0</td>\n",
              "      <td>26.0</td>\n",
              "      <td>44.0</td>\n",
              "      <td>0</td>\n",
              "    </tr>\n",
              "  </tbody>\n",
              "</table>\n",
              "<p>285831 rows × 12 columns</p>\n",
              "</div>"
            ],
            "text/plain": [
              "            id  Jenis_Kelamin  ...  Lama_Berlangganan  Tertarik\n",
              "0            1            0.0  ...               97.0         0\n",
              "1            2            1.0  ...              158.0         0\n",
              "2            3            NaN  ...              119.0         0\n",
              "3            4            0.0  ...               63.0         0\n",
              "4            5            1.0  ...              194.0         0\n",
              "...        ...            ...  ...                ...       ...\n",
              "285826  285827            0.0  ...              217.0         0\n",
              "285827  285828            0.0  ...               50.0         0\n",
              "285828  285829            0.0  ...              226.0         0\n",
              "285829  285830            1.0  ...              270.0         0\n",
              "285830  285831            1.0  ...               44.0         0\n",
              "\n",
              "[285831 rows x 12 columns]"
            ]
          },
          "metadata": {},
          "execution_count": 385
        }
      ]
    },
    {
      "cell_type": "code",
      "metadata": {
        "colab": {
          "base_uri": "https://localhost:8080/",
          "height": 423
        },
        "id": "zIiGMaQU72GB",
        "outputId": "8b512ebc-0195-4eb2-a669-fadcc95d63fa"
      },
      "source": [
        "# Menghapus data yang memiliki sedikit variasi\n",
        "\n",
        "data_train.drop('id',axis='columns', inplace=True)\n",
        "data_train.drop('Jenis_Kelamin',axis='columns', inplace=True)\n",
        "data_train.drop('SIM',axis='columns', inplace=True)\n",
        "data_train.drop('Sudah_Asuransi',axis='columns', inplace=True)\n",
        "data_train.drop('Umur_Kendaraan',axis='columns', inplace=True)\n",
        "data_train.drop('Kendaraan_Rusak',axis='columns', inplace=True)\n",
        "data_train.drop('Tertarik',axis='columns', inplace=True)\n",
        "data_train"
      ],
      "execution_count": null,
      "outputs": [
        {
          "output_type": "execute_result",
          "data": {
            "text/html": [
              "<div>\n",
              "<style scoped>\n",
              "    .dataframe tbody tr th:only-of-type {\n",
              "        vertical-align: middle;\n",
              "    }\n",
              "\n",
              "    .dataframe tbody tr th {\n",
              "        vertical-align: top;\n",
              "    }\n",
              "\n",
              "    .dataframe thead th {\n",
              "        text-align: right;\n",
              "    }\n",
              "</style>\n",
              "<table border=\"1\" class=\"dataframe\">\n",
              "  <thead>\n",
              "    <tr style=\"text-align: right;\">\n",
              "      <th></th>\n",
              "      <th>Umur</th>\n",
              "      <th>Kode_Daerah</th>\n",
              "      <th>Premi</th>\n",
              "      <th>Kanal_Penjualan</th>\n",
              "      <th>Lama_Berlangganan</th>\n",
              "    </tr>\n",
              "  </thead>\n",
              "  <tbody>\n",
              "    <tr>\n",
              "      <th>0</th>\n",
              "      <td>30.0</td>\n",
              "      <td>33.0</td>\n",
              "      <td>28029.0</td>\n",
              "      <td>152.0</td>\n",
              "      <td>97.0</td>\n",
              "    </tr>\n",
              "    <tr>\n",
              "      <th>1</th>\n",
              "      <td>48.0</td>\n",
              "      <td>39.0</td>\n",
              "      <td>25800.0</td>\n",
              "      <td>29.0</td>\n",
              "      <td>158.0</td>\n",
              "    </tr>\n",
              "    <tr>\n",
              "      <th>2</th>\n",
              "      <td>21.0</td>\n",
              "      <td>46.0</td>\n",
              "      <td>32733.0</td>\n",
              "      <td>160.0</td>\n",
              "      <td>119.0</td>\n",
              "    </tr>\n",
              "    <tr>\n",
              "      <th>3</th>\n",
              "      <td>58.0</td>\n",
              "      <td>48.0</td>\n",
              "      <td>2630.0</td>\n",
              "      <td>124.0</td>\n",
              "      <td>63.0</td>\n",
              "    </tr>\n",
              "    <tr>\n",
              "      <th>4</th>\n",
              "      <td>50.0</td>\n",
              "      <td>35.0</td>\n",
              "      <td>34857.0</td>\n",
              "      <td>88.0</td>\n",
              "      <td>194.0</td>\n",
              "    </tr>\n",
              "    <tr>\n",
              "      <th>...</th>\n",
              "      <td>...</td>\n",
              "      <td>...</td>\n",
              "      <td>...</td>\n",
              "      <td>...</td>\n",
              "      <td>...</td>\n",
              "    </tr>\n",
              "    <tr>\n",
              "      <th>285826</th>\n",
              "      <td>23.0</td>\n",
              "      <td>4.0</td>\n",
              "      <td>25988.0</td>\n",
              "      <td>152.0</td>\n",
              "      <td>217.0</td>\n",
              "    </tr>\n",
              "    <tr>\n",
              "      <th>285827</th>\n",
              "      <td>21.0</td>\n",
              "      <td>46.0</td>\n",
              "      <td>44686.0</td>\n",
              "      <td>152.0</td>\n",
              "      <td>50.0</td>\n",
              "    </tr>\n",
              "    <tr>\n",
              "      <th>285828</th>\n",
              "      <td>23.0</td>\n",
              "      <td>50.0</td>\n",
              "      <td>49751.0</td>\n",
              "      <td>152.0</td>\n",
              "      <td>226.0</td>\n",
              "    </tr>\n",
              "    <tr>\n",
              "      <th>285829</th>\n",
              "      <td>68.0</td>\n",
              "      <td>7.0</td>\n",
              "      <td>30503.0</td>\n",
              "      <td>124.0</td>\n",
              "      <td>270.0</td>\n",
              "    </tr>\n",
              "    <tr>\n",
              "      <th>285830</th>\n",
              "      <td>45.0</td>\n",
              "      <td>28.0</td>\n",
              "      <td>36480.0</td>\n",
              "      <td>26.0</td>\n",
              "      <td>44.0</td>\n",
              "    </tr>\n",
              "  </tbody>\n",
              "</table>\n",
              "<p>285831 rows × 5 columns</p>\n",
              "</div>"
            ],
            "text/plain": [
              "        Umur  Kode_Daerah    Premi  Kanal_Penjualan  Lama_Berlangganan\n",
              "0       30.0         33.0  28029.0            152.0               97.0\n",
              "1       48.0         39.0  25800.0             29.0              158.0\n",
              "2       21.0         46.0  32733.0            160.0              119.0\n",
              "3       58.0         48.0   2630.0            124.0               63.0\n",
              "4       50.0         35.0  34857.0             88.0              194.0\n",
              "...      ...          ...      ...              ...                ...\n",
              "285826  23.0          4.0  25988.0            152.0              217.0\n",
              "285827  21.0         46.0  44686.0            152.0               50.0\n",
              "285828  23.0         50.0  49751.0            152.0              226.0\n",
              "285829  68.0          7.0  30503.0            124.0              270.0\n",
              "285830  45.0         28.0  36480.0             26.0               44.0\n",
              "\n",
              "[285831 rows x 5 columns]"
            ]
          },
          "metadata": {},
          "execution_count": 386
        }
      ]
    },
    {
      "cell_type": "code",
      "metadata": {
        "colab": {
          "base_uri": "https://localhost:8080/",
          "height": 282
        },
        "id": "2hTFmIkoFXPJ",
        "outputId": "04a30125-e823-4d85-9ccf-2cb1d5ef9e2f"
      },
      "source": [
        "# Menampilkan boxplot\n",
        "\n",
        "sns.boxplot(data= data_train, orient=\"h\", palette=\"Set2\")\n"
      ],
      "execution_count": null,
      "outputs": [
        {
          "output_type": "execute_result",
          "data": {
            "text/plain": [
              "<matplotlib.axes._subplots.AxesSubplot at 0x7f5f098cf790>"
            ]
          },
          "metadata": {},
          "execution_count": 387
        },
        {
          "output_type": "display_data",
          "data": {
            "image/png": "[encoded data removed]",
            "text/plain": [
              "<Figure size 432x288 with 1 Axes>"
            ]
          },
          "metadata": {
            "needs_background": "light"
          }
        }
      ]
    },
    {
      "cell_type": "code",
      "metadata": {
        "colab": {
          "base_uri": "https://localhost:8080/",
          "height": 351
        },
        "id": "8f0Q4C2kGWaK",
        "outputId": "966178e6-097d-4f27-f9bd-dd628e5b4152"
      },
      "source": [
        "# Menghilangkan outlier\n",
        "def outlier(data_train):\n",
        "  Q1 = data_train.quantile(0.25)\n",
        "  Q3 = data_train.quantile(0.75)\n",
        "\n",
        "  IQR = Q3 - Q1\n",
        "  Lower = Q1 - (1.5 * IQR)\n",
        "  Upper = Q3 + (1.5 * IQR)\n",
        "\n",
        "  hasil = data_train[((data_train>Lower) & (data_train<Upper))]\n",
        "\n",
        "  return hasil\n",
        "\n",
        "data_train_new = data_train\n",
        "data_train_new['Premi'] = outlier(data_train['Premi'])\n",
        "\n",
        "sns.boxplot(data_train_new['Premi'])"
      ],
      "execution_count": null,
      "outputs": [
        {
          "output_type": "stream",
          "name": "stderr",
          "text": [
            "/usr/local/lib/python3.7/dist-packages/seaborn/_decorators.py:43: FutureWarning: Pass the following variable as a keyword arg: x. From version 0.12, the only valid positional argument will be `data`, and passing other arguments without an explicit keyword will result in an error or misinterpretation.\n",
            "  FutureWarning\n"
          ]
        },
        {
          "output_type": "execute_result",
          "data": {
            "text/plain": [
              "<matplotlib.axes._subplots.AxesSubplot at 0x7f5f104ded90>"
            ]
          },
          "metadata": {},
          "execution_count": 388
        },
        {
          "output_type": "display_data",
          "data": {
            "image/png": "[encoded data removed]",
            "text/plain": [
              "<Figure size 432x288 with 1 Axes>"
            ]
          },
          "metadata": {
            "needs_background": "light"
          }
        }
      ]
    },
    {
      "cell_type": "code",
      "metadata": {
        "colab": {
          "base_uri": "https://localhost:8080/",
          "height": 770
        },
        "id": "p-IM-TTyKWyY",
        "outputId": "d97ea9a1-41e3-441c-b665-82cffb6ca252"
      },
      "source": [
        "#Mengisi nilai NULL\n",
        "\n",
        "x = pd.DataFrame(data_train_new)\n",
        "\n",
        "meanValue = x['Umur'].mean()\n",
        "data_train_new['Umur'].fillna(value=meanValue, inplace=True)\n",
        "meanValue = x['Kode_Daerah'].mean()\n",
        "data_train_new['Kode_Daerah'].fillna(value=meanValue, inplace=True)\n",
        "meanValue = x['Premi'].mean()\n",
        "data_train_new['Premi'].fillna(value=meanValue, inplace=True)\n",
        "meanValue = x['Kanal_Penjualan'].mean()\n",
        "data_train_new['Kanal_Penjualan'].fillna(value=meanValue, inplace=True)\n",
        "meanValue = x['Lama_Berlangganan'].mean()\n",
        "data_train_new['Lama_Berlangganan'].fillna(value=meanValue, inplace=True)\n",
        "\n",
        "print(data_train_new)\n",
        "print(data_train_new.isna().sum())\n",
        "data_train_new"
      ],
      "execution_count": null,
      "outputs": [
        {
          "output_type": "stream",
          "name": "stdout",
          "text": [
            "        Umur  Kode_Daerah    Premi  Kanal_Penjualan  Lama_Berlangganan\n",
            "0       30.0         33.0  28029.0            152.0               97.0\n",
            "1       48.0         39.0  25800.0             29.0              158.0\n",
            "2       21.0         46.0  32733.0            160.0              119.0\n",
            "3       58.0         48.0   2630.0            124.0               63.0\n",
            "4       50.0         35.0  34857.0             88.0              194.0\n",
            "...      ...          ...      ...              ...                ...\n",
            "285826  23.0          4.0  25988.0            152.0              217.0\n",
            "285827  21.0         46.0  44686.0            152.0               50.0\n",
            "285828  23.0         50.0  49751.0            152.0              226.0\n",
            "285829  68.0          7.0  30503.0            124.0              270.0\n",
            "285830  45.0         28.0  36480.0             26.0               44.0\n",
            "\n",
            "[285831 rows x 5 columns]\n",
            "Umur                 0\n",
            "Kode_Daerah          0\n",
            "Premi                0\n",
            "Kanal_Penjualan      0\n",
            "Lama_Berlangganan    0\n",
            "dtype: int64\n"
          ]
        },
        {
          "output_type": "execute_result",
          "data": {
            "text/html": [
              "<div>\n",
              "<style scoped>\n",
              "    .dataframe tbody tr th:only-of-type {\n",
              "        vertical-align: middle;\n",
              "    }\n",
              "\n",
              "    .dataframe tbody tr th {\n",
              "        vertical-align: top;\n",
              "    }\n",
              "\n",
              "    .dataframe thead th {\n",
              "        text-align: right;\n",
              "    }\n",
              "</style>\n",
              "<table border=\"1\" class=\"dataframe\">\n",
              "  <thead>\n",
              "    <tr style=\"text-align: right;\">\n",
              "      <th></th>\n",
              "      <th>Umur</th>\n",
              "      <th>Kode_Daerah</th>\n",
              "      <th>Premi</th>\n",
              "      <th>Kanal_Penjualan</th>\n",
              "      <th>Lama_Berlangganan</th>\n",
              "    </tr>\n",
              "  </thead>\n",
              "  <tbody>\n",
              "    <tr>\n",
              "      <th>0</th>\n",
              "      <td>30.0</td>\n",
              "      <td>33.0</td>\n",
              "      <td>28029.0</td>\n",
              "      <td>152.0</td>\n",
              "      <td>97.0</td>\n",
              "    </tr>\n",
              "    <tr>\n",
              "      <th>1</th>\n",
              "      <td>48.0</td>\n",
              "      <td>39.0</td>\n",
              "      <td>25800.0</td>\n",
              "      <td>29.0</td>\n",
              "      <td>158.0</td>\n",
              "    </tr>\n",
              "    <tr>\n",
              "      <th>2</th>\n",
              "      <td>21.0</td>\n",
              "      <td>46.0</td>\n",
              "      <td>32733.0</td>\n",
              "      <td>160.0</td>\n",
              "      <td>119.0</td>\n",
              "    </tr>\n",
              "    <tr>\n",
              "      <th>3</th>\n",
              "      <td>58.0</td>\n",
              "      <td>48.0</td>\n",
              "      <td>2630.0</td>\n",
              "      <td>124.0</td>\n",
              "      <td>63.0</td>\n",
              "    </tr>\n",
              "    <tr>\n",
              "      <th>4</th>\n",
              "      <td>50.0</td>\n",
              "      <td>35.0</td>\n",
              "      <td>34857.0</td>\n",
              "      <td>88.0</td>\n",
              "      <td>194.0</td>\n",
              "    </tr>\n",
              "    <tr>\n",
              "      <th>...</th>\n",
              "      <td>...</td>\n",
              "      <td>...</td>\n",
              "      <td>...</td>\n",
              "      <td>...</td>\n",
              "      <td>...</td>\n",
              "    </tr>\n",
              "    <tr>\n",
              "      <th>285826</th>\n",
              "      <td>23.0</td>\n",
              "      <td>4.0</td>\n",
              "      <td>25988.0</td>\n",
              "      <td>152.0</td>\n",
              "      <td>217.0</td>\n",
              "    </tr>\n",
              "    <tr>\n",
              "      <th>285827</th>\n",
              "      <td>21.0</td>\n",
              "      <td>46.0</td>\n",
              "      <td>44686.0</td>\n",
              "      <td>152.0</td>\n",
              "      <td>50.0</td>\n",
              "    </tr>\n",
              "    <tr>\n",
              "      <th>285828</th>\n",
              "      <td>23.0</td>\n",
              "      <td>50.0</td>\n",
              "      <td>49751.0</td>\n",
              "      <td>152.0</td>\n",
              "      <td>226.0</td>\n",
              "    </tr>\n",
              "    <tr>\n",
              "      <th>285829</th>\n",
              "      <td>68.0</td>\n",
              "      <td>7.0</td>\n",
              "      <td>30503.0</td>\n",
              "      <td>124.0</td>\n",
              "      <td>270.0</td>\n",
              "    </tr>\n",
              "    <tr>\n",
              "      <th>285830</th>\n",
              "      <td>45.0</td>\n",
              "      <td>28.0</td>\n",
              "      <td>36480.0</td>\n",
              "      <td>26.0</td>\n",
              "      <td>44.0</td>\n",
              "    </tr>\n",
              "  </tbody>\n",
              "</table>\n",
              "<p>285831 rows × 5 columns</p>\n",
              "</div>"
            ],
            "text/plain": [
              "        Umur  Kode_Daerah    Premi  Kanal_Penjualan  Lama_Berlangganan\n",
              "0       30.0         33.0  28029.0            152.0               97.0\n",
              "1       48.0         39.0  25800.0             29.0              158.0\n",
              "2       21.0         46.0  32733.0            160.0              119.0\n",
              "3       58.0         48.0   2630.0            124.0               63.0\n",
              "4       50.0         35.0  34857.0             88.0              194.0\n",
              "...      ...          ...      ...              ...                ...\n",
              "285826  23.0          4.0  25988.0            152.0              217.0\n",
              "285827  21.0         46.0  44686.0            152.0               50.0\n",
              "285828  23.0         50.0  49751.0            152.0              226.0\n",
              "285829  68.0          7.0  30503.0            124.0              270.0\n",
              "285830  45.0         28.0  36480.0             26.0               44.0\n",
              "\n",
              "[285831 rows x 5 columns]"
            ]
          },
          "metadata": {},
          "execution_count": 389
        }
      ]
    },
    {
      "cell_type": "code",
      "metadata": {
        "colab": {
          "base_uri": "https://localhost:8080/",
          "height": 423
        },
        "id": "uuatYif_CTP7",
        "outputId": "da66b2af-5062-4949-87f5-d2a5e5f180b7"
      },
      "source": [
        "# Min Max Scaller\n",
        "Scaller = MinMaxScaler()\n",
        "Scaller.fit(data_train_new)\n",
        "data_train_new = Scaller.transform(data_train_new)\n",
        "data_train_new = pd.DataFrame(data_train_new, columns=['Umur','Kode_Daerah', 'Premi', 'Kanal_Penjualan', 'Lama_Berlangganan'])\n",
        "data_train_new\n",
        "\n"
      ],
      "execution_count": null,
      "outputs": [
        {
          "output_type": "execute_result",
          "data": {
            "text/html": [
              "<div>\n",
              "<style scoped>\n",
              "    .dataframe tbody tr th:only-of-type {\n",
              "        vertical-align: middle;\n",
              "    }\n",
              "\n",
              "    .dataframe tbody tr th {\n",
              "        vertical-align: top;\n",
              "    }\n",
              "\n",
              "    .dataframe thead th {\n",
              "        text-align: right;\n",
              "    }\n",
              "</style>\n",
              "<table border=\"1\" class=\"dataframe\">\n",
              "  <thead>\n",
              "    <tr style=\"text-align: right;\">\n",
              "      <th></th>\n",
              "      <th>Umur</th>\n",
              "      <th>Kode_Daerah</th>\n",
              "      <th>Premi</th>\n",
              "      <th>Kanal_Penjualan</th>\n",
              "      <th>Lama_Berlangganan</th>\n",
              "    </tr>\n",
              "  </thead>\n",
              "  <tbody>\n",
              "    <tr>\n",
              "      <th>0</th>\n",
              "      <td>0.153846</td>\n",
              "      <td>0.634615</td>\n",
              "      <td>0.428914</td>\n",
              "      <td>0.932099</td>\n",
              "      <td>0.301038</td>\n",
              "    </tr>\n",
              "    <tr>\n",
              "      <th>1</th>\n",
              "      <td>0.430769</td>\n",
              "      <td>0.750000</td>\n",
              "      <td>0.391273</td>\n",
              "      <td>0.172840</td>\n",
              "      <td>0.512111</td>\n",
              "    </tr>\n",
              "    <tr>\n",
              "      <th>2</th>\n",
              "      <td>0.015385</td>\n",
              "      <td>0.884615</td>\n",
              "      <td>0.508351</td>\n",
              "      <td>0.981481</td>\n",
              "      <td>0.377163</td>\n",
              "    </tr>\n",
              "    <tr>\n",
              "      <th>3</th>\n",
              "      <td>0.584615</td>\n",
              "      <td>0.923077</td>\n",
              "      <td>0.000000</td>\n",
              "      <td>0.759259</td>\n",
              "      <td>0.183391</td>\n",
              "    </tr>\n",
              "    <tr>\n",
              "      <th>4</th>\n",
              "      <td>0.461538</td>\n",
              "      <td>0.673077</td>\n",
              "      <td>0.544219</td>\n",
              "      <td>0.537037</td>\n",
              "      <td>0.636678</td>\n",
              "    </tr>\n",
              "    <tr>\n",
              "      <th>...</th>\n",
              "      <td>...</td>\n",
              "      <td>...</td>\n",
              "      <td>...</td>\n",
              "      <td>...</td>\n",
              "      <td>...</td>\n",
              "    </tr>\n",
              "    <tr>\n",
              "      <th>285826</th>\n",
              "      <td>0.046154</td>\n",
              "      <td>0.076923</td>\n",
              "      <td>0.394448</td>\n",
              "      <td>0.932099</td>\n",
              "      <td>0.716263</td>\n",
              "    </tr>\n",
              "    <tr>\n",
              "      <th>285827</th>\n",
              "      <td>0.015385</td>\n",
              "      <td>0.884615</td>\n",
              "      <td>0.710201</td>\n",
              "      <td>0.932099</td>\n",
              "      <td>0.138408</td>\n",
              "    </tr>\n",
              "    <tr>\n",
              "      <th>285828</th>\n",
              "      <td>0.046154</td>\n",
              "      <td>0.961538</td>\n",
              "      <td>0.795734</td>\n",
              "      <td>0.932099</td>\n",
              "      <td>0.747405</td>\n",
              "    </tr>\n",
              "    <tr>\n",
              "      <th>285829</th>\n",
              "      <td>0.738462</td>\n",
              "      <td>0.134615</td>\n",
              "      <td>0.470693</td>\n",
              "      <td>0.759259</td>\n",
              "      <td>0.899654</td>\n",
              "    </tr>\n",
              "    <tr>\n",
              "      <th>285830</th>\n",
              "      <td>0.384615</td>\n",
              "      <td>0.538462</td>\n",
              "      <td>0.571626</td>\n",
              "      <td>0.154321</td>\n",
              "      <td>0.117647</td>\n",
              "    </tr>\n",
              "  </tbody>\n",
              "</table>\n",
              "<p>285831 rows × 5 columns</p>\n",
              "</div>"
            ],
            "text/plain": [
              "            Umur  Kode_Daerah     Premi  Kanal_Penjualan  Lama_Berlangganan\n",
              "0       0.153846     0.634615  0.428914         0.932099           0.301038\n",
              "1       0.430769     0.750000  0.391273         0.172840           0.512111\n",
              "2       0.015385     0.884615  0.508351         0.981481           0.377163\n",
              "3       0.584615     0.923077  0.000000         0.759259           0.183391\n",
              "4       0.461538     0.673077  0.544219         0.537037           0.636678\n",
              "...          ...          ...       ...              ...                ...\n",
              "285826  0.046154     0.076923  0.394448         0.932099           0.716263\n",
              "285827  0.015385     0.884615  0.710201         0.932099           0.138408\n",
              "285828  0.046154     0.961538  0.795734         0.932099           0.747405\n",
              "285829  0.738462     0.134615  0.470693         0.759259           0.899654\n",
              "285830  0.384615     0.538462  0.571626         0.154321           0.117647\n",
              "\n",
              "[285831 rows x 5 columns]"
            ]
          },
          "metadata": {},
          "execution_count": 390
        }
      ]
    },
    {
      "cell_type": "code",
      "metadata": {
        "colab": {
          "base_uri": "https://localhost:8080/",
          "height": 506
        },
        "id": "KFq1IWGXRGFV",
        "outputId": "12fbff7c-aea4-47bf-c7c9-fe45bb0da9df"
      },
      "source": [
        "#HeatMap\n",
        "plt.figure(figsize=(15,8))\n",
        "sns.heatmap(data_train_new.corr(), annot=True, vmin=-1, vmax=1)"
      ],
      "execution_count": null,
      "outputs": [
        {
          "output_type": "execute_result",
          "data": {
            "text/plain": [
              "<matplotlib.axes._subplots.AxesSubplot at 0x7f5f0c8a33d0>"
            ]
          },
          "metadata": {},
          "execution_count": 391
        },
        {
          "output_type": "display_data",
          "data": {
            "image/png": "[encoded data removed]",
            "text/plain": [
              "<Figure size 1080x576 with 2 Axes>"
            ]
          },
          "metadata": {
            "needs_background": "light"
          }
        }
      ]
    },
    {
      "cell_type": "code",
      "metadata": {
        "id": "XkFskWk0h9NG",
        "colab": {
          "base_uri": "https://localhost:8080/",
          "height": 423
        },
        "outputId": "e519fdca-051b-432d-84a7-a9f3472cf4ec"
      },
      "source": [
        "# Memilih data dan merubah data menjadi array numpy\n",
        "data_train_new = data_train_new[['Umur', 'Kanal_Penjualan']]\n",
        "data = data_train_new.to_numpy()\n",
        "data_train_new\n"
      ],
      "execution_count": null,
      "outputs": [
        {
          "output_type": "execute_result",
          "data": {
            "text/html": [
              "<div>\n",
              "<style scoped>\n",
              "    .dataframe tbody tr th:only-of-type {\n",
              "        vertical-align: middle;\n",
              "    }\n",
              "\n",
              "    .dataframe tbody tr th {\n",
              "        vertical-align: top;\n",
              "    }\n",
              "\n",
              "    .dataframe thead th {\n",
              "        text-align: right;\n",
              "    }\n",
              "</style>\n",
              "<table border=\"1\" class=\"dataframe\">\n",
              "  <thead>\n",
              "    <tr style=\"text-align: right;\">\n",
              "      <th></th>\n",
              "      <th>Umur</th>\n",
              "      <th>Kanal_Penjualan</th>\n",
              "    </tr>\n",
              "  </thead>\n",
              "  <tbody>\n",
              "    <tr>\n",
              "      <th>0</th>\n",
              "      <td>0.153846</td>\n",
              "      <td>0.932099</td>\n",
              "    </tr>\n",
              "    <tr>\n",
              "      <th>1</th>\n",
              "      <td>0.430769</td>\n",
              "      <td>0.172840</td>\n",
              "    </tr>\n",
              "    <tr>\n",
              "      <th>2</th>\n",
              "      <td>0.015385</td>\n",
              "      <td>0.981481</td>\n",
              "    </tr>\n",
              "    <tr>\n",
              "      <th>3</th>\n",
              "      <td>0.584615</td>\n",
              "      <td>0.759259</td>\n",
              "    </tr>\n",
              "    <tr>\n",
              "      <th>4</th>\n",
              "      <td>0.461538</td>\n",
              "      <td>0.537037</td>\n",
              "    </tr>\n",
              "    <tr>\n",
              "      <th>...</th>\n",
              "      <td>...</td>\n",
              "      <td>...</td>\n",
              "    </tr>\n",
              "    <tr>\n",
              "      <th>285826</th>\n",
              "      <td>0.046154</td>\n",
              "      <td>0.932099</td>\n",
              "    </tr>\n",
              "    <tr>\n",
              "      <th>285827</th>\n",
              "      <td>0.015385</td>\n",
              "      <td>0.932099</td>\n",
              "    </tr>\n",
              "    <tr>\n",
              "      <th>285828</th>\n",
              "      <td>0.046154</td>\n",
              "      <td>0.932099</td>\n",
              "    </tr>\n",
              "    <tr>\n",
              "      <th>285829</th>\n",
              "      <td>0.738462</td>\n",
              "      <td>0.759259</td>\n",
              "    </tr>\n",
              "    <tr>\n",
              "      <th>285830</th>\n",
              "      <td>0.384615</td>\n",
              "      <td>0.154321</td>\n",
              "    </tr>\n",
              "  </tbody>\n",
              "</table>\n",
              "<p>285831 rows × 2 columns</p>\n",
              "</div>"
            ],
            "text/plain": [
              "            Umur  Kanal_Penjualan\n",
              "0       0.153846         0.932099\n",
              "1       0.430769         0.172840\n",
              "2       0.015385         0.981481\n",
              "3       0.584615         0.759259\n",
              "4       0.461538         0.537037\n",
              "...          ...              ...\n",
              "285826  0.046154         0.932099\n",
              "285827  0.015385         0.932099\n",
              "285828  0.046154         0.932099\n",
              "285829  0.738462         0.759259\n",
              "285830  0.384615         0.154321\n",
              "\n",
              "[285831 rows x 2 columns]"
            ]
          },
          "metadata": {},
          "execution_count": 392
        }
      ]
    },
    {
      "cell_type": "markdown",
      "metadata": {
        "id": "mbl3_o2pTmWu"
      },
      "source": [
        "# **PEMODELAN**"
      ]
    },
    {
      "cell_type": "code",
      "metadata": {
        "id": "W-7Pqpp3OZnK"
      },
      "source": [
        "# Perhitungan Jarak Euclidean\n",
        "def euclidean(x, y):\n",
        "    hasil = []\n",
        "    for i in range(len(y)):\n",
        "      jarak = math.sqrt(math.pow(x[0]-y[i][0],2) + math.pow(x[1]-y[i][1],2))\n",
        "      hasil.append(jarak)\n",
        "    return hasil"
      ],
      "execution_count": null,
      "outputs": []
    },
    {
      "cell_type": "code",
      "metadata": {
        "id": "9iE6zgwvj6G0"
      },
      "source": [
        "#Fungsi unutk menghitung jarak seluruh data\n",
        "def calculateDistance(arr, x):\n",
        "    newArr = []\n",
        "    for i in range(len(arr)):\n",
        "        newArr.append(euclidean(arr[i], x))\n",
        "    return newArr"
      ],
      "execution_count": null,
      "outputs": []
    },
    {
      "cell_type": "code",
      "metadata": {
        "id": "wELdpv6Qj_lk"
      },
      "source": [
        "#Fungsi untuk menghitung rata-rata\n",
        "def mean(x):\n",
        "    return sum(x)/len(x)\n",
        "\n",
        "#Fungsi untuk menghitung rata-rata dari cluster\n",
        "def ClustAvg(x, k):\n",
        "    result = []\n",
        "    arrdat1 = []\n",
        "    arrdat2 = []\n",
        "    for i in range(k):\n",
        "        for j in range(len(x)):\n",
        "            if x[j][2] == i:\n",
        "                arrdat1.append(x[j][0])\n",
        "                arrdat2.append(x[j][1])\n",
        "        result.append([mean(arrdat1), mean(arrdat2)])\n",
        "        arrdat1 = []\n",
        "        arrdat2 = []\n",
        "    return result"
      ],
      "execution_count": null,
      "outputs": []
    },
    {
      "cell_type": "code",
      "metadata": {
        "id": "Je7WNx3DkBgK"
      },
      "source": [
        "#Fungsi untuk mencari centroid baru\n",
        "def NewCentroid(data, cen, k):\n",
        "    distance = calculateDistance(data, cen)\n",
        "    cluster = []\n",
        "    for i in range(len(distance)):\n",
        "        minimum = min(distance[i])\n",
        "        index = distance[i].index(minimum)\n",
        "        cluster.append([data[i][0], data[i][1], index])\n",
        "    centroid = ClustAvg(cluster, k)\n",
        "    \n",
        "    return centroid, cluster"
      ],
      "execution_count": null,
      "outputs": []
    },
    {
      "cell_type": "code",
      "metadata": {
        "id": "w2IlxzuFkiTP"
      },
      "source": [
        "def Kmeans(data , k):\n",
        "    # inisialisasi variabel yang akan digunakan\n",
        "    i = 1\n",
        "    jarak = []\n",
        "    centroid = []\n",
        "\n",
        "    #Memasukan jumlah maksimum iterasi\n",
        "    iterasi = 50\n",
        "\n",
        "    #Pencarian centroid secara random\n",
        "    CentroidRandom = {i: data[random.randint(0, len(data))] for i in range(k)}\n",
        "  \n",
        "    #Proses Looping sebanyak iterasi yang dimasukkan\n",
        "    #Looping ini bekerja untuk terus mencari centroid baru\n",
        "    #Looping ini akan berhenti ketika nilai centroid sebelumnya sama dengan centroid sekarang\n",
        "    while i <= iterasi :\n",
        "        centroid, cluster = NewCentroid(data,CentroidRandom, k)\n",
        "        print(\"Iterasi ke\", i,\":\", \"Cluster 0\", centroid[0], \"Cluster 1\", centroid[1], \"Cluster 2\", centroid[2])\n",
        "        if CentroidRandom == centroid :\n",
        "            break\n",
        "        CentroidRandom = centroid\n",
        "        i += 1\n",
        "\n",
        "    #Fungsi ini mengembalikan nilai cluster dan centroid\n",
        "    return cluster, centroid\n",
        "\n",
        "\n"
      ],
      "execution_count": null,
      "outputs": []
    },
    {
      "cell_type": "code",
      "metadata": {
        "colab": {
          "base_uri": "https://localhost:8080/"
        },
        "id": "SizCgppbcRqK",
        "outputId": "4736ccec-d28f-429b-92ad-aedf7e98ab4b"
      },
      "source": [
        "k = 3\n",
        "cluster, centroid= Kmeans(data, k)"
      ],
      "execution_count": null,
      "outputs": [
        {
          "output_type": "stream",
          "name": "stdout",
          "text": [
            "Iterasi ke 1 : Cluster 0 [0.07970011160272533, 0.9225937039284946] Cluster 1 [0.33120373591546765, 0.5317906884405522] Cluster 2 [0.6471058000213703, 0.4603955126799889]\n",
            "Iterasi ke 2 : Cluster 0 [0.11779234383801716, 0.9195929989325803] Cluster 1 [0.341246729649712, 0.5095442282010065] Cluster 2 [0.6310834632398415, 0.3500346290897863]\n",
            "Iterasi ke 3 : Cluster 0 [0.1339098706434602, 0.9095169822583056] Cluster 1 [0.3814568368477476, 0.5773409085318777] Cluster 2 [0.581980203433936, 0.24353219222226735]\n",
            "Iterasi ke 4 : Cluster 0 [0.12003792054298335, 0.9154940944693531] Cluster 1 [0.47397718350444334, 0.739339491848915] Cluster 2 [0.4811496424327978, 0.1483710619345149]\n",
            "Iterasi ke 5 : Cluster 0 [0.10576570244636925, 0.9150010421711013] Cluster 1 [0.4802648739407858, 0.7754273099030874] Cluster 2 [0.4697037808478145, 0.15082271656193338]\n",
            "Iterasi ke 6 : Cluster 0 [0.10224796326201016, 0.9157943267506102] Cluster 1 [0.47446586225248233, 0.7786547660774359] Cluster 2 [0.46969090433544397, 0.15086330761868313]\n",
            "Iterasi ke 7 : Cluster 0 [0.10161697142869529, 0.9160912659328558] Cluster 1 [0.4731922363765802, 0.7790029572542632] Cluster 2 [0.4696918431836914, 0.15086756836483117]\n",
            "Iterasi ke 8 : Cluster 0 [0.10160248256696656, 0.9161011172635855] Cluster 1 [0.47315867554140545, 0.7790065960722511] Cluster 2 [0.4696918431836914, 0.15086756836483117]\n",
            "Iterasi ke 9 : Cluster 0 [0.10160248256696656, 0.9161011172635855] Cluster 1 [0.47315867554140545, 0.7790065960722511] Cluster 2 [0.4696918431836914, 0.15086756836483117]\n"
          ]
        }
      ]
    },
    {
      "cell_type": "markdown",
      "metadata": {
        "id": "8WDtOmq-1eNY"
      },
      "source": [
        "# **EVALUASI**"
      ]
    },
    {
      "cell_type": "code",
      "metadata": {
        "colab": {
          "base_uri": "https://localhost:8080/",
          "height": 549
        },
        "id": "VKVI9_Sy8c8i",
        "outputId": "e7d998ac-b714-4147-a976-1884203e273f"
      },
      "source": [
        "#Menampilkan jumlah dan letak seluruh centroid\n",
        "for i in range(k):\n",
        "    print(f'Centroid', i , centroid[i])\n",
        "\n",
        "def Visualisasi(cluster, centroid, k):\n",
        "    plt.subplots(figsize=(8,8))\n",
        "    plt.xlabel(\"Umur\")\n",
        "    plt.ylabel(\"Kanal_Penjualan\")\n",
        "\n",
        "    colors = ['r', 'g', '#0080ff', '#e69500', '#e89500']\n",
        "\n",
        "    for i in range(k):\n",
        "        clusx = []\n",
        "        clusy = []\n",
        "        for j in range(len(cluster)):\n",
        "            if cluster[j][2] == i:\n",
        "                clusx.append(cluster[j][0])\n",
        "                clusy.append(cluster[j][1])\n",
        "        plt.scatter(clusx , clusy, color = colors[i] )\n",
        "        plt.scatter(centroid[i][0], centroid[i][1], color='k', marker='P')\n",
        "    plt.scatter(centroid[0][0], centroid[0][1], color='k', label=\"Centroids\", marker='P')\n",
        "\n",
        "    \n",
        "\n",
        "Visualisasi(cluster, centroid, k)\n"
      ],
      "execution_count": null,
      "outputs": [
        {
          "output_type": "stream",
          "name": "stdout",
          "text": [
            "Centroid 0 [0.10160248256696656, 0.9161011172635855]\n",
            "Centroid 1 [0.47315867554140545, 0.7790065960722511]\n",
            "Centroid 2 [0.4696918431836914, 0.15086756836483117]\n"
          ]
        },
        {
          "output_type": "display_data",
          "data": {
            "image/png": "[encoded data removed]",
            "text/plain": [
              "<Figure size 576x576 with 1 Axes>"
            ]
          },
          "metadata": {
            "needs_background": "light"
          }
        }
      ]
    },
    {
      "cell_type": "code",
      "metadata": {
        "id": "V36XtahjOrOD",
        "colab": {
          "base_uri": "https://localhost:8080/",
          "height": 295
        },
        "outputId": "3e545f5a-c232-49e2-ff8d-01df4083b9cc"
      },
      "source": [
        "# Inisialisasi Array Untuk Distortion\n",
        "distortions = []\n",
        "\n",
        "# Inisialisasi Range K\n",
        "K = range(2, 9)\n",
        "\n",
        "# Melakukan Perulangan Untuk Setiap Range\n",
        "for i in K:\n",
        "    # Membangun Dan Fit Dataset\n",
        "    model = KMeans(n_clusters=i).fit(data_train_new)\n",
        "    model.fit(data_train_new)\n",
        "\n",
        "    # Memasukkan Hasil Dari Jumlah cdist data, cluster_center Ke Array\n",
        "    distortions.append(sum(np.min(cdist(data_train_new, model.cluster_centers_, 'euclidean'), axis=1)) / data_train_new.shape[0])\n",
        "\n",
        "# Plot data\n",
        "plt.plot(K, distortions, 'bx-')\n",
        "plt.xlabel('Nilai K')\n",
        "plt.ylabel('Distortion')\n",
        "plt.title('Evaluasi Jumlah Cluster Dengan Elbow Method')\n",
        "plt.show()\n",
        "\n"
      ],
      "execution_count": null,
      "outputs": [
        {
          "output_type": "display_data",
          "data": {
            "image/png": "[encoded data removed]",
            "text/plain": [
              "<Figure size 432x288 with 1 Axes>"
            ]
          },
          "metadata": {
            "needs_background": "light"
          }
        }
      ]
    }
  ]
}